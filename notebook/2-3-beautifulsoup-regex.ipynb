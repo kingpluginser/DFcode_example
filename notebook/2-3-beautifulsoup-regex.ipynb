{
 "cells": [
  {
   "cell_type": "markdown",
   "metadata": {},
   "source": [
<<<<<<< HEAD
    "# Beautifulsoup：通过正则表达式查找\n",
    "**首先，我们为正则表达式导入 re。然后，打开一个 [page](https://mofanpy.com/static/scraping/table.html)，然后我们可以在这个页面的 html 上应用 beautifulsoup。**"
=======
    "# Beautifulsoup: find by regual expression\n",
    "**First we import re for regex. Then, open a [page](https://mofanpy.com/static/scraping/table.html), then we can apply beautifulsoup on this page's html.**"
>>>>>>> 501e9862249d3bb00ae77026ff1b4eeb4b4a48fb
   ]
  },
  {
   "cell_type": "code",
   "execution_count": 1,
   "metadata": {
    "collapsed": true
   },
   "outputs": [
    {
     "name": "stdout",
     "output_type": "stream",
     "text": [
<<<<<<< HEAD
      "<!DOCTYPE html>\n",
      "<html lang=\"cn\">\n",
      " <head>\n",
      "  <meta charset=\"utf-8\"/>\n",
      "  <title>\n",
      "   爬虫练习 表格 table | 莫烦 Python\n",
      "  </title>\n",
      "  <style>\n",
      "   img {\n",
      "      width: 250px;\n",
      "    }\n",
      "\n",
      "    table {\n",
      "      width: 50%;\n",
      "    }\n",
      "\n",
      "    td {\n",
      "      margin: 10px;\n",
      "      padding: 15px;\n",
      "    }\n",
      "  </style>\n",
      " </head>\n",
      " <body>\n",
      "  <h1>\n",
      "   表格 爬虫练习\n",
      "  </h1>\n",
      "  <p>\n",
      "   这是一个在\n",
      "   <a href=\"/\">\n",
      "    莫烦 Python\n",
      "   </a>\n",
      "   的\n",
      "   <a href=\"/tutorials/data-manipulation/scraping/\">\n",
      "    爬虫教程\n",
      "   </a>\n",
      "   里无敌简单的网页, 所有的 code 让你一目了然, 清晰无比.\n",
      "  </p>\n",
      "  <br/>\n",
      "  <table id=\"course-list\">\n",
      "   <tr>\n",
      "    <th>\n",
      "     分类\n",
      "    </th>\n",
      "    <th>\n",
      "     名字\n",
      "    </th>\n",
      "    <th>\n",
      "     时长\n",
      "    </th>\n",
      "    <th>\n",
      "     预览\n",
      "    </th>\n",
      "   </tr>\n",
      "   <tr class=\"ml\" id=\"course1\">\n",
      "    <td>\n",
      "     机器学习\n",
      "    </td>\n",
      "    <td>\n",
      "     <a href=\"/tutorials/machine-learning/tensorflow/\">\n",
      "      Tensorflow 神经网络\n",
      "     </a>\n",
      "    </td>\n",
      "    <td>\n",
      "     2:00\n",
      "    </td>\n",
      "    <td>\n",
      "     <img src=\"/static/img/course_cover/tf.jpg\"/>\n",
      "    </td>\n",
      "   </tr>\n",
      "   <tr class=\"ml\" id=\"course2\">\n",
      "    <td>\n",
      "     机器学习\n",
      "    </td>\n",
      "    <td>\n",
      "     <a href=\"/tutorials/machine-learning/reinforcement-learning/\">\n",
      "      强化学习\n",
      "     </a>\n",
      "    </td>\n",
      "    <td>\n",
      "     5:00\n",
      "    </td>\n",
      "    <td>\n",
      "     <img src=\"/static/img/course_cover/rl.jpg\"/>\n",
      "    </td>\n",
      "   </tr>\n",
      "   <tr class=\"data\" id=\"course3\">\n",
      "    <td>\n",
      "     数据处理\n",
      "    </td>\n",
      "    <td>\n",
      "     <a href=\"/tutorials/data-manipulation/scraping/\">\n",
      "      爬虫\n",
      "     </a>\n",
      "    </td>\n",
      "    <td>\n",
      "     3:00\n",
      "    </td>\n",
      "    <td>\n",
      "     <img src=\"/static/img/course_cover/scraping.jpg\"/>\n",
      "    </td>\n",
      "   </tr>\n",
      "  </table>\n",
      " </body>\n",
      "</html>\n",
      "\n",
      "<!DOCTYPE html><html lang=\"cn\"> <head><meta charset=\"UTF-8\"><title>爬虫练习 表格 table | 莫烦 Python</title><style>\n",
      "    img {\n",
      "      width: 250px;\n",
      "    }\n",
      "\n",
      "    table {\n",
      "      width: 50%;\n",
      "    }\n",
      "\n",
      "    td {\n",
      "      margin: 10px;\n",
      "      padding: 15px;\n",
      "    }\n",
      "  </style></head> <body> <h1>表格 爬虫练习</h1> <p>这是一个在 <a href=\"/\">莫烦 Python</a> 的 <a href=\"/tutorials/data-manipulation/scraping/\">爬虫教程</a> 里无敌简单的网页, 所有的 code 让你一目了然, 清晰无比.</p> <br> <table id=\"course-list\"> <tr> <th> 分类 </th> <th> 名字 </th> <th> 时长 </th> <th> 预览 </th> </tr> <tr id=\"course1\" class=\"ml\"> <td> 机器学习 </td> <td> <a href=\"/tutorials/machine-learning/tensorflow/\"> Tensorflow 神经网络</a> </td> <td> 2:00 </td> <td> <img src=\"/static/img/course_cover/tf.jpg\"> </td> </tr> <tr id=\"course2\" class=\"ml\"> <td> 机器学习 </td> <td> <a href=\"/tutorials/machine-learning/reinforcement-learning/\"> 强化学习</a> </td> <td> 5:00 </td> <td> <img src=\"/static/img/course_cover/rl.jpg\"> </td> </tr> <tr id=\"course3\" class=\"data\"> <td> 数据处理 </td> <td> <a href=\"/tutorials/data-manipulation/scraping/\"> 爬虫</a> </td> <td> 3:00 </td> <td> <img src=\"/static/img/course_cover/scraping.jpg\"> </td> </tr> </table> </body> </html>\n"
=======
      "<!DOCTYPE html>\n<html lang=\"cn\">\n<head>\n\t<meta charset=\"UTF-8\">\n\t<title>爬虫练习 表格 table | 莫烦 Python</title>\n\n\t<style>\n\timg {\n\t\twidth: 250px;\n\t}\n\ttable{\n\t\twidth:50%;\n\t}\n\ttd{\n\t\tmargin:10px;\n\t\tpadding:15px;\n\t}\n\t</style>\n</head>\n<body>\n\n<h1>表格 爬虫练习</h1>\n\n<p>这是一个在 <a href=\"https://mofanpy.com/\" >莫烦 Python</a> 的 <a href=\"https://mofanpy.com/tutorials/scraping\" >爬虫教程</a>\n\t里无敌简单的网页, 所有的 code 让你一目了然, 清晰无比.</p>\n\n<br>\n<table id=\"course-list\">\n\t<tr>\n\t\t<th>\n\t\t\t分类\n\t\t</th><th>\n\t\t\t名字\n\t\t</th><th>\n\t\t\t时长\n\t\t</th><th>\n\t\t\t预览\n\t\t</th>\n\t</tr>\n\n\t<tr id=\"course1\" class=\"ml\">\n\t\t<td>\n\t\t\t机器学习\n\t\t</td><td>\n\t\t\t<a href=\"https://mofanpy.com/tutorials/machine-learning/tensorflow/\">\n\t\t\t\tTensorflow 神经网络</a>\n\t\t</td><td>\n\t\t\t2:00\n\t\t</td><td>\n\t\t\t<img src=\"https://mofanpy.com/static/img/course_cover/tf.jpg\">\n\t\t</td>\n\t</tr>\n\n\t<tr id=\"course2\" class=\"ml\">\n\t\t<td>\n\t\t\t机器学习\n\t\t</td><td>\n\t\t\t<a href=\"https://mofanpy.com/tutorials/machine-learning/reinforcement-learning/\">\n\t\t\t\t强化学习</a>\n\t\t</td><td>\n\t\t\t5:00\n\t\t</td><td>\n\t\t\t<img src=\"https://mofanpy.com/static/img/course_cover/rl.jpg\">\n\t\t</td>\n\t</tr>\n\n\t<tr id=\"course3\" class=\"data\">\n\t\t<td>\n\t\t\t数据处理\n\t\t</td><td>\n\t\t\t<a href=\"https://mofanpy.com/tutorials/data-manipulation/scraping/\">\n\t\t\t\t爬虫</a>\n\t\t</td><td>\n\t\t\t3:00\n\t\t</td><td>\n\t\t\t<img src=\"https://mofanpy.com/static/img/course_cover/scraping.jpg\">\n\t\t</td>\n\t</tr>\n\n</table>\n\n</body>\n</html>\n"
>>>>>>> 501e9862249d3bb00ae77026ff1b4eeb4b4a48fb
     ]
    }
   ],
   "source": [
    "from bs4 import BeautifulSoup\n",
    "from urllib.request import urlopen\n",
    "import re\n",
    "\n",
<<<<<<< HEAD
    "# 如果是中文网页，需要解码，添加 decode('utf-8')\n",
    "html = urlopen(\"https://mofanpy.com/static/scraping/table.html\").read().decode('utf-8')\n",
    "soup = BeautifulSoup(html, 'html.parser')\n",
    "format_html = soup.prettify()\n",
    "print(format_html)\n",
=======
    "# if has Chinese, apply decode()\n",
    "html = urlopen(\"https://mofanpy.com/static/scraping/table.html\").read().decode('utf-8')\n",
>>>>>>> 501e9862249d3bb00ae77026ff1b4eeb4b4a48fb
    "print(html)"
   ]
  },
  {
   "cell_type": "markdown",
   "metadata": {},
   "source": [
    "**使用名为 lxml 的方法解析此 HTML，创建一个 soup 对象。查找所有具有特定格式 src 的 \"img\" 标签。**"
   ]
  },
  {
   "cell_type": "code",
   "execution_count": 2,
   "metadata": {
    "collapsed": true
   },
   "outputs": [
    {
     "name": "stdout",
     "output_type": "stream",
     "text": [
<<<<<<< HEAD
      "/static/img/course_cover/tf.jpg\n",
      "/static/img/course_cover/rl.jpg\n",
      "/static/img/course_cover/scraping.jpg\n"
=======
      "https://mofanpy.com/static/img/course_cover/tf.jpg\nhttps://mofanpy.com/static/img/course_cover/rl.jpg\nhttps://mofanpy.com/static/img/course_cover/scraping.jpg\n"
>>>>>>> 501e9862249d3bb00ae77026ff1b4eeb4b4a48fb
     ]
    }
   ],
   "source": [
    "soup = BeautifulSoup(html, features='lxml')\n",
    "\n",
    "img_links = soup.find_all(\"img\", {\"src\": re.compile('.*?\\.jpg')})\n",
    "for link in img_links:\n",
    "    print(link['src'])"
   ]
  },
  {
   "cell_type": "markdown",
   "metadata": {},
   "source": [
    "**或者使用一些有用的函数来查找标签。通过键访问找到的标签的属性，就像在Python字典中一样。**"
   ]
  },
  {
   "cell_type": "code",
   "execution_count": 8,
   "metadata": {},
   "outputs": [
    {
     "name": "stdout",
     "output_type": "stream",
     "text": [
<<<<<<< HEAD
      "/tutorials/data-manipulation/scraping/\n",
      "/tutorials/machine-learning/tensorflow/\n",
      "/tutorials/machine-learning/reinforcement-learning/\n",
      "/tutorials/data-manipulation/scraping/\n"
=======
      "https://mofanpy.com/\nhttps://mofanpy.com/tutorials/scraping\nhttps://mofanpy.com/tutorials/machine-learning/tensorflow/\nhttps://mofanpy.com/tutorials/machine-learning/reinforcement-learning/\nhttps://mofanpy.com/tutorials/data-manipulation/scraping/\n"
>>>>>>> 501e9862249d3bb00ae77026ff1b4eeb4b4a48fb
     ]
    }
   ],
   "source": [
    "course_links = soup.find_all('a', {'href': re.compile('/tutorials.*')})\n",
    "for link in course_links:\n",
    "    print(link['href'])"
   ]
  },
  {
   "cell_type": "code",
   "execution_count": 11,
   "metadata": {},
   "outputs": [
    {
     "name": "stdout",
     "output_type": "stream",
     "text": [
      "[<a href=\"/\">莫烦 Python</a>, <a href=\"/tutorials/data-manipulation/scraping/\">爬虫教程</a>, <a href=\"/tutorials/machine-learning/tensorflow/\"> Tensorflow 神经网络</a>, <a href=\"/tutorials/machine-learning/reinforcement-learning/\"> 强化学习</a>, <a href=\"/tutorials/data-manipulation/scraping/\"> 爬虫</a>]\n",
      "/\n",
      "/tutorials/data-manipulation/scraping/\n",
      "/tutorials/machine-learning/tensorflow/\n",
      "/tutorials/machine-learning/reinforcement-learning/\n",
      "/tutorials/data-manipulation/scraping/\n"
     ]
    }
   ],
   "source": [
    "links = soup.find_all('a')\n",
    "print(links)\n",
    "for link in links:\n",
    "    if 'href' in link.attrs:\n",
    "        print(link['href'])\n",
    "# all_herf = [l['href'] for l in herf_list if l['href'].startswith('http') or 'www' in l['href']]"
   ]
  }
 ],
 "metadata": {
  "kernelspec": {
   "display_name": "SVM",
   "language": "python",
   "name": "python3"
  },
  "language_info": {
   "codemirror_mode": {
    "name": "ipython",
    "version": 3
   },
   "file_extension": ".py",
   "mimetype": "text/x-python",
   "name": "python",
   "nbconvert_exporter": "python",
   "pygments_lexer": "ipython3",
   "version": "3.8.20"
  }
 },
 "nbformat": 4,
 "nbformat_minor": 0
}
