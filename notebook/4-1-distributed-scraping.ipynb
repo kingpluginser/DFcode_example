{
 "cells": [
  {
   "cell_type": "markdown",
   "metadata": {},
   "source": [
    "# 分布式抓取：多处理\n",
    "\n",
    "**通过分布式抓取和解析加快抓取速度。我将抓取 [我的网站](https://mofanpy.com/)，但在本地服务器(http://127.0.0.1:4000/)中以消除不同的下载速度。该测试在时间测量方面更准确。您可以改用(https://mofanpy.com/)，因为您无法访问(http://127.0.0.1:4000/)。**\n",
    "\n",
    "**我们将抓取我网站中的所有网页，并重新查找每个页面的标题和网址。**"
   ]
  },
  {
   "cell_type": "code",
   "execution_count": 1,
   "metadata": {
    "collapsed": false
   },
   "outputs": [],
   "source": [
    "import multiprocessing as mp\n",
    "import time\n",
    "from urllib.request import urlopen, urljoin\n",
    "from bs4 import BeautifulSoup\n",
    "import re\n",
    "\n",
    "# base_url = \"http://127.0.0.1:4000/\"\n",
    "base_url = 'http://mofanpy.com/'\n",
    "\n",
    "# 不要过度抓取网站，否则您可能永远不会再访问\n",
    "if base_url != \"http://127.0.0.1:4000/\":\n",
    "    restricted_crawl = True\n",
    "else:\n",
    "    restricted_crawl = False"
   ]
  },
  {
   "cell_type": "markdown",
   "metadata": {},
   "source": [
    "**创建一个抓取函数以并行打开 url。**"
   ]
  },
  {
   "cell_type": "code",
   "execution_count": 2,
   "metadata": {},
   "outputs": [],
   "source": [
    "def crawl(url):\n",
    "    \"\"\"\n",
    "    爬取指定URL的网页内容\n",
    "    \n",
    "    参数:\n",
    "        url (str): 要爬取的网页URL地址\n",
    "        \n",
    "    返回:\n",
    "        str: 网页的HTML内容（已解码为字符串）\n",
    "    \"\"\"\n",
    "    # 使用urlopen发送HTTP请求获取网页内容\n",
    "    response = urlopen(url)\n",
    "    # time.sleep(0.1)             # 稍微延迟一下，避免请求过于频繁（被注释掉）\n",
    "    # 读取响应内容并解码为字符串（假设是UTF-8编码）\n",
    "    return response.read().decode()"
   ]
  },
  {
   "cell_type": "markdown",
   "metadata": {},
   "source": [
    "**创建一个解析函数来并行查找我们需要的所有结果**"
   ]
  },
  {
   "cell_type": "code",
   "execution_count": 3,
   "metadata": {},
   "outputs": [],
   "source": [
    "\n",
    "def parse(html):\n",
    "    \"\"\"\n",
    "    解析HTML内容，提取标题、页面链接和当前页面URL\n",
    "    \n",
    "    参数:\n",
    "        html (str): 要解析的HTML内容字符串\n",
    "        \n",
    "    返回:\n",
    "        tuple: 包含三个元素的元组\n",
    "            - title (str): 页面标题（从<h1>标签提取）\n",
    "            - page_urls (set): 页面中所有符合特定模式的链接集合（已去重）\n",
    "            - url (str): 当前页面的规范URL（从og:url元标签提取）\n",
    "    \"\"\"\n",
    "    # 使用BeautifulSoup解析HTML文档，使用lxml解析器\n",
    "    soup = BeautifulSoup(html, 'lxml')\n",
    "    \n",
    "    # 查找所有href属性符合正则表达式'^/.+?/$'的<a>标签\n",
    "    # 正则解释：^表示开始，/表示斜杠，.+?表示一个或多个任意字符（非贪婪），/$表示以斜杠结尾\n",
    "    # 这个模式匹配所有以斜杠开头、以斜杠结尾的相对路径URL\n",
    "    urls = soup.find_all('a', {\"href\": re.compile('^/.+?/$')})\n",
    "    \n",
    "    # 提取<h1>标签的文本内容，并去除前后空白字符\n",
    "    title = soup.find('h1').get_text().strip()\n",
    "    \n",
    "    # 使用集合推导式处理找到的URL：\n",
    "    # 1. 使用urljoin将相对路径转换为绝对URL\n",
    "    # 2. 使用set()自动去重\n",
    "    page_urls = set([urljoin(base_url, url['href']) for url in urls])\n",
    "    \n",
    "    # 从Open Graph协议的og:url元标签中提取当前页面的规范URL\n",
    "    url = soup.find('meta', {'property': \"og:url\"})['content']\n",
    "    \n",
    "    # 返回提取的标题、页面链接集合和当前页面URL\n",
    "    return title, page_urls, url"
   ]
  },
  {
   "cell_type": "markdown",
   "metadata": {},
   "source": [
    "## 正常方式\n",
    "**请不要使用多进程，测试速度。首先，在 Python 集合中设置我们已见过和未见过的 URL。**"
   ]
  },
  {
   "cell_type": "code",
   "execution_count": 4,
   "metadata": {},
   "outputs": [
    {
     "name": "stdout",
     "output_type": "stream",
     "text": [
      "\n",
      "Distributed Crawling...\n"
     ]
    },
    {
     "ename": "HTTPError",
     "evalue": "HTTP Error 400: Bad Request",
     "output_type": "error",
     "traceback": [
      "\u001b[1;31m---------------------------------------------------------------------------\u001b[0m",
      "\u001b[1;31mHTTPError\u001b[0m                                 Traceback (most recent call last)",
      "Cell \u001b[1;32mIn[4], line 20\u001b[0m\n\u001b[0;32m     18\u001b[0m \u001b[38;5;28mprint\u001b[39m(\u001b[38;5;124m'\u001b[39m\u001b[38;5;130;01m\\n\u001b[39;00m\u001b[38;5;124mDistributed Crawling...\u001b[39m\u001b[38;5;124m'\u001b[39m)  \u001b[38;5;66;03m# 打印提示信息，表示开始分布式爬取\u001b[39;00m\n\u001b[0;32m     19\u001b[0m \u001b[38;5;66;03m# 使用列表推导式，对unseen集合中的每个URL调用crawl函数，获取HTML内容\u001b[39;00m\n\u001b[1;32m---> 20\u001b[0m htmls \u001b[38;5;241m=\u001b[39m [crawl(url) \u001b[38;5;28;01mfor\u001b[39;00m url \u001b[38;5;129;01min\u001b[39;00m unseen]\n\u001b[0;32m     22\u001b[0m \u001b[38;5;28mprint\u001b[39m(\u001b[38;5;124m'\u001b[39m\u001b[38;5;130;01m\\n\u001b[39;00m\u001b[38;5;124mDistributed Parsing...\u001b[39m\u001b[38;5;124m'\u001b[39m)   \u001b[38;5;66;03m# 打印提示信息，表示开始分布式解析\u001b[39;00m\n\u001b[0;32m     23\u001b[0m \u001b[38;5;66;03m# 使用列表推导式，对每个HTML内容调用parse函数，解析出标题、页面链接和当前URL\u001b[39;00m\n",
      "Cell \u001b[1;32mIn[4], line 20\u001b[0m, in \u001b[0;36m<listcomp>\u001b[1;34m(.0)\u001b[0m\n\u001b[0;32m     18\u001b[0m \u001b[38;5;28mprint\u001b[39m(\u001b[38;5;124m'\u001b[39m\u001b[38;5;130;01m\\n\u001b[39;00m\u001b[38;5;124mDistributed Crawling...\u001b[39m\u001b[38;5;124m'\u001b[39m)  \u001b[38;5;66;03m# 打印提示信息，表示开始分布式爬取\u001b[39;00m\n\u001b[0;32m     19\u001b[0m \u001b[38;5;66;03m# 使用列表推导式，对unseen集合中的每个URL调用crawl函数，获取HTML内容\u001b[39;00m\n\u001b[1;32m---> 20\u001b[0m htmls \u001b[38;5;241m=\u001b[39m [\u001b[43mcrawl\u001b[49m\u001b[43m(\u001b[49m\u001b[43murl\u001b[49m\u001b[43m)\u001b[49m \u001b[38;5;28;01mfor\u001b[39;00m url \u001b[38;5;129;01min\u001b[39;00m unseen]\n\u001b[0;32m     22\u001b[0m \u001b[38;5;28mprint\u001b[39m(\u001b[38;5;124m'\u001b[39m\u001b[38;5;130;01m\\n\u001b[39;00m\u001b[38;5;124mDistributed Parsing...\u001b[39m\u001b[38;5;124m'\u001b[39m)   \u001b[38;5;66;03m# 打印提示信息，表示开始分布式解析\u001b[39;00m\n\u001b[0;32m     23\u001b[0m \u001b[38;5;66;03m# 使用列表推导式，对每个HTML内容调用parse函数，解析出标题、页面链接和当前URL\u001b[39;00m\n",
      "Cell \u001b[1;32mIn[2], line 12\u001b[0m, in \u001b[0;36mcrawl\u001b[1;34m(url)\u001b[0m\n\u001b[0;32m      2\u001b[0m \u001b[38;5;250m\u001b[39m\u001b[38;5;124;03m\"\"\"\u001b[39;00m\n\u001b[0;32m      3\u001b[0m \u001b[38;5;124;03m爬取指定URL的网页内容\u001b[39;00m\n\u001b[0;32m      4\u001b[0m \u001b[38;5;124;03m\u001b[39;00m\n\u001b[1;32m   (...)\u001b[0m\n\u001b[0;32m      9\u001b[0m \u001b[38;5;124;03m    str: 网页的HTML内容（已解码为字符串）\u001b[39;00m\n\u001b[0;32m     10\u001b[0m \u001b[38;5;124;03m\"\"\"\u001b[39;00m\n\u001b[0;32m     11\u001b[0m \u001b[38;5;66;03m# 使用urlopen发送HTTP请求获取网页内容\u001b[39;00m\n\u001b[1;32m---> 12\u001b[0m response \u001b[38;5;241m=\u001b[39m \u001b[43murlopen\u001b[49m\u001b[43m(\u001b[49m\u001b[43murl\u001b[49m\u001b[43m)\u001b[49m\n\u001b[0;32m     13\u001b[0m \u001b[38;5;66;03m# time.sleep(0.1)             # 稍微延迟一下，避免请求过于频繁（被注释掉）\u001b[39;00m\n\u001b[0;32m     14\u001b[0m \u001b[38;5;66;03m# 读取响应内容并解码为字符串（假设是UTF-8编码）\u001b[39;00m\n\u001b[0;32m     15\u001b[0m \u001b[38;5;28;01mreturn\u001b[39;00m response\u001b[38;5;241m.\u001b[39mread()\u001b[38;5;241m.\u001b[39mdecode()\n",
      "File \u001b[1;32me:\\Anconda3\\envs\\SVM\\lib\\urllib\\request.py:222\u001b[0m, in \u001b[0;36murlopen\u001b[1;34m(url, data, timeout, cafile, capath, cadefault, context)\u001b[0m\n\u001b[0;32m    220\u001b[0m \u001b[38;5;28;01melse\u001b[39;00m:\n\u001b[0;32m    221\u001b[0m     opener \u001b[38;5;241m=\u001b[39m _opener\n\u001b[1;32m--> 222\u001b[0m \u001b[38;5;28;01mreturn\u001b[39;00m \u001b[43mopener\u001b[49m\u001b[38;5;241;43m.\u001b[39;49m\u001b[43mopen\u001b[49m\u001b[43m(\u001b[49m\u001b[43murl\u001b[49m\u001b[43m,\u001b[49m\u001b[43m \u001b[49m\u001b[43mdata\u001b[49m\u001b[43m,\u001b[49m\u001b[43m \u001b[49m\u001b[43mtimeout\u001b[49m\u001b[43m)\u001b[49m\n",
      "File \u001b[1;32me:\\Anconda3\\envs\\SVM\\lib\\urllib\\request.py:531\u001b[0m, in \u001b[0;36mOpenerDirector.open\u001b[1;34m(self, fullurl, data, timeout)\u001b[0m\n\u001b[0;32m    529\u001b[0m \u001b[38;5;28;01mfor\u001b[39;00m processor \u001b[38;5;129;01min\u001b[39;00m \u001b[38;5;28mself\u001b[39m\u001b[38;5;241m.\u001b[39mprocess_response\u001b[38;5;241m.\u001b[39mget(protocol, []):\n\u001b[0;32m    530\u001b[0m     meth \u001b[38;5;241m=\u001b[39m \u001b[38;5;28mgetattr\u001b[39m(processor, meth_name)\n\u001b[1;32m--> 531\u001b[0m     response \u001b[38;5;241m=\u001b[39m \u001b[43mmeth\u001b[49m\u001b[43m(\u001b[49m\u001b[43mreq\u001b[49m\u001b[43m,\u001b[49m\u001b[43m \u001b[49m\u001b[43mresponse\u001b[49m\u001b[43m)\u001b[49m\n\u001b[0;32m    533\u001b[0m \u001b[38;5;28;01mreturn\u001b[39;00m response\n",
      "File \u001b[1;32me:\\Anconda3\\envs\\SVM\\lib\\urllib\\request.py:640\u001b[0m, in \u001b[0;36mHTTPErrorProcessor.http_response\u001b[1;34m(self, request, response)\u001b[0m\n\u001b[0;32m    637\u001b[0m \u001b[38;5;66;03m# According to RFC 2616, \"2xx\" code indicates that the client's\u001b[39;00m\n\u001b[0;32m    638\u001b[0m \u001b[38;5;66;03m# request was successfully received, understood, and accepted.\u001b[39;00m\n\u001b[0;32m    639\u001b[0m \u001b[38;5;28;01mif\u001b[39;00m \u001b[38;5;129;01mnot\u001b[39;00m (\u001b[38;5;241m200\u001b[39m \u001b[38;5;241m<\u001b[39m\u001b[38;5;241m=\u001b[39m code \u001b[38;5;241m<\u001b[39m \u001b[38;5;241m300\u001b[39m):\n\u001b[1;32m--> 640\u001b[0m     response \u001b[38;5;241m=\u001b[39m \u001b[38;5;28;43mself\u001b[39;49m\u001b[38;5;241;43m.\u001b[39;49m\u001b[43mparent\u001b[49m\u001b[38;5;241;43m.\u001b[39;49m\u001b[43merror\u001b[49m\u001b[43m(\u001b[49m\n\u001b[0;32m    641\u001b[0m \u001b[43m        \u001b[49m\u001b[38;5;124;43m'\u001b[39;49m\u001b[38;5;124;43mhttp\u001b[39;49m\u001b[38;5;124;43m'\u001b[39;49m\u001b[43m,\u001b[49m\u001b[43m \u001b[49m\u001b[43mrequest\u001b[49m\u001b[43m,\u001b[49m\u001b[43m \u001b[49m\u001b[43mresponse\u001b[49m\u001b[43m,\u001b[49m\u001b[43m \u001b[49m\u001b[43mcode\u001b[49m\u001b[43m,\u001b[49m\u001b[43m \u001b[49m\u001b[43mmsg\u001b[49m\u001b[43m,\u001b[49m\u001b[43m \u001b[49m\u001b[43mhdrs\u001b[49m\u001b[43m)\u001b[49m\n\u001b[0;32m    643\u001b[0m \u001b[38;5;28;01mreturn\u001b[39;00m response\n",
      "File \u001b[1;32me:\\Anconda3\\envs\\SVM\\lib\\urllib\\request.py:569\u001b[0m, in \u001b[0;36mOpenerDirector.error\u001b[1;34m(self, proto, *args)\u001b[0m\n\u001b[0;32m    567\u001b[0m \u001b[38;5;28;01mif\u001b[39;00m http_err:\n\u001b[0;32m    568\u001b[0m     args \u001b[38;5;241m=\u001b[39m (\u001b[38;5;28mdict\u001b[39m, \u001b[38;5;124m'\u001b[39m\u001b[38;5;124mdefault\u001b[39m\u001b[38;5;124m'\u001b[39m, \u001b[38;5;124m'\u001b[39m\u001b[38;5;124mhttp_error_default\u001b[39m\u001b[38;5;124m'\u001b[39m) \u001b[38;5;241m+\u001b[39m orig_args\n\u001b[1;32m--> 569\u001b[0m     \u001b[38;5;28;01mreturn\u001b[39;00m \u001b[38;5;28;43mself\u001b[39;49m\u001b[38;5;241;43m.\u001b[39;49m\u001b[43m_call_chain\u001b[49m\u001b[43m(\u001b[49m\u001b[38;5;241;43m*\u001b[39;49m\u001b[43margs\u001b[49m\u001b[43m)\u001b[49m\n",
      "File \u001b[1;32me:\\Anconda3\\envs\\SVM\\lib\\urllib\\request.py:502\u001b[0m, in \u001b[0;36mOpenerDirector._call_chain\u001b[1;34m(self, chain, kind, meth_name, *args)\u001b[0m\n\u001b[0;32m    500\u001b[0m \u001b[38;5;28;01mfor\u001b[39;00m handler \u001b[38;5;129;01min\u001b[39;00m handlers:\n\u001b[0;32m    501\u001b[0m     func \u001b[38;5;241m=\u001b[39m \u001b[38;5;28mgetattr\u001b[39m(handler, meth_name)\n\u001b[1;32m--> 502\u001b[0m     result \u001b[38;5;241m=\u001b[39m \u001b[43mfunc\u001b[49m\u001b[43m(\u001b[49m\u001b[38;5;241;43m*\u001b[39;49m\u001b[43margs\u001b[49m\u001b[43m)\u001b[49m\n\u001b[0;32m    503\u001b[0m     \u001b[38;5;28;01mif\u001b[39;00m result \u001b[38;5;129;01mis\u001b[39;00m \u001b[38;5;129;01mnot\u001b[39;00m \u001b[38;5;28;01mNone\u001b[39;00m:\n\u001b[0;32m    504\u001b[0m         \u001b[38;5;28;01mreturn\u001b[39;00m result\n",
      "File \u001b[1;32me:\\Anconda3\\envs\\SVM\\lib\\urllib\\request.py:649\u001b[0m, in \u001b[0;36mHTTPDefaultErrorHandler.http_error_default\u001b[1;34m(self, req, fp, code, msg, hdrs)\u001b[0m\n\u001b[0;32m    648\u001b[0m \u001b[38;5;28;01mdef\u001b[39;00m \u001b[38;5;21mhttp_error_default\u001b[39m(\u001b[38;5;28mself\u001b[39m, req, fp, code, msg, hdrs):\n\u001b[1;32m--> 649\u001b[0m     \u001b[38;5;28;01mraise\u001b[39;00m HTTPError(req\u001b[38;5;241m.\u001b[39mfull_url, code, msg, hdrs, fp)\n",
      "\u001b[1;31mHTTPError\u001b[0m: HTTP Error 400: Bad Request"
     ]
    }
   ],
   "source": [
    "\n",
    "# 初始化两个集合：\n",
    "# unseen: 存储待爬取的URL，初始包含基础URL\n",
    "# seen: 存储已爬取的URL，初始为空\n",
    "unseen = set([base_url,])\n",
    "seen = set()\n",
    "\n",
    "# 初始化计数器和计时器\n",
    "# count: 用于记录已处理的页面数量\n",
    "# t1: 记录爬虫开始时间，用于计算总耗时\n",
    "count, t1 = 1, time.time()\n",
    "\n",
    "# 主循环：当unseen集合不为空时继续爬取\n",
    "while len(unseen) != 0:                 # 仍然获得一些 URL 访问\n",
    "    # 检查是否设置了限制爬取的条件，并且已爬取页面数量超过20\n",
    "    if restricted_crawl and len(seen) > 20:\n",
    "            break  # 如果满足条件，则退出循环，停止爬取\n",
    "    \n",
    "    print('\\nDistributed Crawling...')  # 打印提示信息，表示开始分布式爬取\n",
    "    # 使用列表推导式，对unseen集合中的每个URL调用crawl函数，获取HTML内容\n",
    "    htmls = [crawl(url) for url in unseen]\n",
    "    \n",
    "    print('\\nDistributed Parsing...')   # 打印提示信息，表示开始分布式解析\n",
    "    # 使用列表推导式，对每个HTML内容调用parse函数，解析出标题、页面链接和当前URL\n",
    "    results = [parse(html) for html in htmls]\n",
    "    \n",
    "    print('\\nAnalysing...')             # 打印提示信息，表示开始分析结果\n",
    "    \n",
    "    # 将unseen集合中的所有URL添加到seen集合中，表示这些URL已经被访问\n",
    "    seen.update(unseen)         # 已查看爬取内容\n",
    "    \n",
    "    # 清空unseen集合，准备存储新发现的URL\n",
    "    unseen.clear()              # 没有未被看见的\n",
    "    \n",
    "    # 遍历解析结果，处理每个页面\n",
    "    for title, page_urls, url in results:\n",
    "        # 打印页面序号、标题和URL\n",
    "        print(count, title, url)\n",
    "        count += 1  # 增加页面计数器\n",
    "        \n",
    "        # 从当前页面解析出的所有URL中，减去已经访问过的URL，得到新的待爬取URL\n",
    "        # 并将这些新URL添加到unseen集合中\n",
    "        unseen.update(page_urls - seen)     # get new url to crawl\n",
    "\n",
    "# 计算并打印总耗时\n",
    "# 检查并打印请求的URL，确保其格式正确\n",
    "print(\"请求的URL:\", url)\n"
   ]
  },
  {
   "cell_type": "markdown",
   "metadata": {},
   "source": [
    "## multiprocessing\n",
    "**Create a process pool and scrape parallelly.**"
   ]
  },
  {
   "cell_type": "code",
   "execution_count": 5,
   "metadata": {
    "collapsed": true
   },
   "outputs": [
    {
     "name": "stdout",
     "output_type": "stream",
     "text": [
      "\n",
      "Distributed Crawling...\n"
     ]
    }
   ],
   "source": [
    "unseen = set([base_url,])\n",
    "seen = set()\n",
    "\n",
    "pool = mp.Pool(4)                       \n",
    "count, t1 = 1, time.time()\n",
    "while len(unseen) != 0:                 # still get some url to visit\n",
    "    if restricted_crawl and len(seen) > 20:\n",
    "            break\n",
    "    print('\\nDistributed Crawling...')\n",
    "    crawl_jobs = [pool.apply_async(crawl, args=(url,)) for url in unseen]\n",
    "    htmls = [j.get() for j in crawl_jobs]                                       # request connection\n",
    "\n",
    "    print('\\nDistributed Parsing...')\n",
    "    parse_jobs = [pool.apply_async(parse, args=(html,)) for html in htmls]\n",
    "    results = [j.get() for j in parse_jobs]                                     # parse html\n",
    "\n",
    "    print('\\nAnalysing...')\n",
    "    seen.update(unseen)         # seen the crawled\n",
    "    unseen.clear()              # nothing unseen\n",
    "\n",
    "    for title, page_urls, url in results:\n",
    "        print(count, title, url)\n",
    "        count += 1\n",
    "        unseen.update(page_urls - seen)     # get new url to crawl\n",
    "print('Total time: %.1f s' % (time.time()-t1, ))    # 16 s !!!"
   ]
  }
 ],
 "metadata": {
  "kernelspec": {
   "display_name": "SVM",
   "language": "python",
   "name": "python3"
  },
  "language_info": {
   "codemirror_mode": {
    "name": "ipython",
    "version": 3
   },
   "file_extension": ".py",
   "mimetype": "text/x-python",
   "name": "python",
   "nbconvert_exporter": "python",
   "pygments_lexer": "ipython3",
   "version": "3.8.20"
  }
 },
 "nbformat": 4,
 "nbformat_minor": 0
}
