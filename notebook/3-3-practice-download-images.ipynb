{
 "cells": [
  {
   "cell_type": "markdown",
   "metadata": {},
   "source": [
    "# 实践：从网络下载图片\n",
    "\n",
    "**从[国家地理](https://www.natgeomedia.com/science/)下载精彩图片**"
   ]
  },
  {
   "cell_type": "code",
   "execution_count": 23,
   "metadata": {
    "collapsed": false
   },
   "outputs": [],
   "source": [
    "from bs4 import BeautifulSoup\n",
    "import requests\n",
    "\n",
    "URL = \"https://www.natgeomedia.com/science/\""
   ]
  },
  {
   "cell_type": "markdown",
   "metadata": {},
   "source": [
    "## 查找图像位置列表"
   ]
  },
  {
   "cell_type": "code",
   "execution_count": 24,
   "metadata": {
    "collapsed": true
   },
   "outputs": [
    {
     "name": "stdout",
     "output_type": "stream",
     "text": [
      "[<div class=\"art-btn-mh-img\">\n",
      "<img alt=\"ä¸æ¯é»å½±æç¯ï¼ä¸åç¨®æé¾ä¹å¯è½éé«å¤§é·å¾\" src=\"https://img.natgeomedia.com/userfiles/sm/sm322214_images_A1/18343/2025080780184273.jpg\"/>\n",
      "</div>, <div class=\"art-btn-mh-img\">\n",
      "<img alt=\"å¾é»æ½®æ¾é»åï¼å¾é¯¨è±æ¾ç­æ¡ è½æºè½åèµ°åæµ·æ´\" src=\"https://img.natgeomedia.com/userfiles/sm/sm322214_images_A1/18342/2025080778449449.jpg\"/>\n",
      "</div>, <div class=\"art-btn-mh-img\">\n",
      "<img alt=\"å¤§åçãæ¼æµè¡æãæè¨±ä¹è½å­è²åºèªå·±çå¾®åè¡æç³»çµ±\" src=\"https://img.natgeomedia.com/userfiles/sm/sm322214_images_A1/18341/2025080638535917.jpg\"/>\n",
      "</div>, <div class=\"art-btn-mh-img\">\n",
      "<img alt=\"æ©è²ççæéåï¼éºå³å¯è½æç­æ¡\" src=\"https://img.natgeomedia.com/userfiles/sm/sm322214_images_A1/18338/2025080462512557.jpg\"/>\n",
      "</div>, <div class=\"art-btn-mh-img\">\n",
      "<img alt=\"éé¡è¡æä¸æå­å¨ï¼å¤©æå­¸å®¶ç¼ç¾éè¡ç¹è¡çè¡æ\" src=\"https://img.natgeomedia.com/userfiles/sm/sm322214_images_A1/18333/2025080385301065.png\"/>\n",
      "</div>, <div class=\"art-btn-mh-img\">\n",
      "<img alt=\"éä¼¯æé é¡æ­ç¤ºè¤éè¡æçæé²çç´°ç¯\" src=\"https://img.natgeomedia.com/userfiles/sm/sm322214_images_A1/18327/2025080167585193.jpg\"/>\n",
      "</div>, <div class=\"art-btn-mh-img\">\n",
      "<img alt=\"ç´æé å¤æç³»ç¢°æç¾å ´ï¼ãèèºãå·¡å¤©è§£ææç³»æ¼åè¬å\" src=\"https://img.natgeomedia.com/userfiles/sm/sm322214_images_A1/18326/2025073152412197.jpg\"/>\n",
      "</div>]\n"
     ]
    }
   ],
   "source": [
    "proxies = {\n",
    "    'http': 'http://127.0.0.1:10809',\n",
    "    'https': 'http://127.0.0.1:10809',\n",
    "}\n",
    "\n",
    "html = requests.get(URL, proxies=proxies).text\n",
    "soup = BeautifulSoup(html, 'lxml')\n",
    "# print(soup)\n",
    "img_ul = soup.find_all('div', {\"class\": \"art-btn-mh-img\"})\n",
    "print(img_ul)"
   ]
  },
  {
   "cell_type": "markdown",
   "metadata": {},
   "source": [
    "**为这些图片创建一个文件夹**"
   ]
  },
  {
   "cell_type": "code",
   "execution_count": 27,
   "metadata": {},
   "outputs": [],
   "source": [
    "import os\n",
    "\n",
    "os.makedirs('./img/', exist_ok=True)"
   ]
  },
  {
   "cell_type": "markdown",
   "metadata": {},
   "source": [
    "## 下载\n",
    "\n",
    "**查找所有图片网址并下载。**"
   ]
  },
  {
   "cell_type": "code",
   "execution_count": 28,
   "metadata": {},
   "outputs": [
    {
     "name": "stdout",
     "output_type": "stream",
     "text": [
      "https://img.natgeomedia.com/userfiles/sm/sm322214_images_A1/18343/2025080780184273.jpg\n",
      "Saved 2025080780184273.jpg\n",
      "https://img.natgeomedia.com/userfiles/sm/sm322214_images_A1/18342/2025080778449449.jpg\n",
      "Saved 2025080778449449.jpg\n",
      "https://img.natgeomedia.com/userfiles/sm/sm322214_images_A1/18341/2025080638535917.jpg\n",
      "Saved 2025080638535917.jpg\n",
      "https://img.natgeomedia.com/userfiles/sm/sm322214_images_A1/18338/2025080462512557.jpg\n",
      "Saved 2025080462512557.jpg\n",
      "https://img.natgeomedia.com/userfiles/sm/sm322214_images_A1/18333/2025080385301065.png\n",
      "Saved 2025080385301065.png\n",
      "https://img.natgeomedia.com/userfiles/sm/sm322214_images_A1/18327/2025080167585193.jpg\n",
      "Saved 2025080167585193.jpg\n",
      "https://img.natgeomedia.com/userfiles/sm/sm322214_images_A1/18326/2025073152412197.jpg\n",
      "Saved 2025073152412197.jpg\n"
     ]
    }
   ],
   "source": [
    "for ul in img_ul:\n",
    "    imgs = ul.find_all('img')\n",
    "    for img in imgs:\n",
    "        print(img['src'])\n",
    "        url = img['src']\n",
    "        r = requests.get(url, stream=True, proxies=proxies)  # BEGIN: Use proxies here\n",
    "        image_name = url.split('/')[-1]\n",
    "        with open('./img/%s' % image_name, 'wb') as f:\n",
    "            for chunk in r.iter_content(chunk_size=128):\n",
    "                if chunk:\n",
    "                    f.write(chunk)\n",
    "        print('Saved %s' % image_name)  # END: Use proxies here\n"
   ]
  }
 ],
 "metadata": {
  "kernelspec": {
   "display_name": "SVM",
   "language": "python",
   "name": "python3"
  },
  "language_info": {
   "codemirror_mode": {
    "name": "ipython",
    "version": 3
   },
   "file_extension": ".py",
   "mimetype": "text/x-python",
   "name": "python",
   "nbconvert_exporter": "python",
   "pygments_lexer": "ipython3",
   "version": "3.8.20"
  }
 },
 "nbformat": 4,
 "nbformat_minor": 0
}
