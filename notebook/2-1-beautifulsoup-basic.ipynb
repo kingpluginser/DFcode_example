{
 "cells": [
  {
   "cell_type": "markdown",
   "metadata": {},
   "source": [
    "# Basic usage of beautifulsoup\n",
<<<<<<< HEAD
    "**首先我们还需要打开一个[page](https://mofanpy.com/static/scraping/basic-structure.html)，然后我们可以在这个页面的 html 上应用 beautifulsoup。**"
=======
    "**First we still need to open a [page](https://mofanpy.com/static/scraping/basic-structure.html), then we can apply beautifulsoup on this page's html.**"
>>>>>>> 501e9862249d3bb00ae77026ff1b4eeb4b4a48fb
   ]
  },
  {
   "cell_type": "code",
   "execution_count": 4,
   "metadata": {
    "collapsed": true
   },
   "outputs": [
    {
     "name": "stdout",
     "output_type": "stream",
     "text": [
<<<<<<< HEAD
      "<!DOCTYPE html><html lang=\"cn\"> <head><meta charset=\"UTF-8\"><title>Scraping tutorial 1 | 莫烦Python</title><link rel=\"icon\" href=\"/static/img/description/tab_icon.png\"></head> <body> <h1>爬虫测试1</h1> <p> 这是一个在 <a href=\"/\">莫烦Python</a> <a href=\"/tutorials/data-manipulation/scraping/\">爬虫教程</a> 中的简单测试. </p> </body> </html> \n"
=======
      "<!DOCTYPE html>\n<html lang=\"cn\">\n<head>\n\t<meta charset=\"UTF-8\">\n\t<title>Scraping tutorial 1 | 莫烦Python</title>\n\t<link rel=\"icon\" href=\"https://mofanpy.com/static/img/description/tab_icon.png\">\n</head>\n<body>\n\t<h1>爬虫测试1</h1>\n\t<p>\n\t\t这是一个在 <a href=\"https://mofanpy.com/\">莫烦Python</a>\n\t\t<a href=\"https://mofanpy.com/tutorials/scraping\">爬虫教程</a> 中的简单测试.\n\t</p>\n\n</body>\n</html>\n"
>>>>>>> 501e9862249d3bb00ae77026ff1b4eeb4b4a48fb
     ]
    }
   ],
   "source": [
    "from bs4 import BeautifulSoup\n",
    "from urllib.request import urlopen\n",
    "\n",
    "# if has Chinese, apply decode()\n",
    "html = urlopen(\"https://mofanpy.com/static/scraping/basic-structure.html\").read().decode('utf-8')\n",
    "print(html)"
   ]
  },
  {
   "cell_type": "markdown",
   "metadata": {},
   "source": [
    "**使用名为 lxml 的方法解析此 html，创建一个 soup 对象。您可以简单地'h1'或'p'来调用 soup 中的标题 1 和段落标签。**"
   ]
  },
  {
   "cell_type": "code",
   "execution_count": 5,
   "metadata": {},
   "outputs": [
    {
     "name": "stdout",
     "output_type": "stream",
     "text": [
<<<<<<< HEAD
      "<h1>爬虫测试1</h1>\n",
      "\n",
      " <p> 这是一个在 <a href=\"/\">莫烦Python</a> <a href=\"/tutorials/data-manipulation/scraping/\">爬虫教程</a> 中的简单测试. </p>\n"
=======
      "<h1>爬虫测试1</h1>\n\n <p>\n\t\t这是一个在 <a href=\"https://mofanpy.com/\">莫烦Python</a>\n<a href=\"https://mofanpy.com/tutorials/scraping\">爬虫教程</a> 中的简单测试.\n\t</p>\n"
>>>>>>> 501e9862249d3bb00ae77026ff1b4eeb4b4a48fb
     ]
    }
   ],
   "source": [
    "soup = BeautifulSoup(html, features='lxml')\n",
    "print(soup.h1)\n",
    "print('\\n', soup.p)"
   ]
  },
  {
   "cell_type": "markdown",
   "metadata": {},
   "source": [
    "**或者使用一些有用的函数来查找标签。使用键访问找到的标签的属性，就像在 python 字典中所做的那样。**"
   ]
  },
  {
   "cell_type": "code",
   "execution_count": 15,
   "metadata": {},
   "outputs": [
    {
     "name": "stdout",
     "output_type": "stream",
     "text": [
<<<<<<< HEAD
      "\n",
      " ['/', '/tutorials/data-manipulation/scraping/']\n"
=======
      "\n ['https://mofanpy.com/', 'https://mofanpy.com/tutorials/scraping']\n"
>>>>>>> 501e9862249d3bb00ae77026ff1b4eeb4b4a48fb
     ]
    }
   ],
   "source": [
    "all_href = soup.find_all('a')\n",
    "all_href = [l['href'] for l in all_href]\n",
    "print('\\n', all_href)"
   ]
  },
  {
   "cell_type": "code",
   "execution_count": 14,
   "metadata": {},
   "outputs": [
    {
     "name": "stdout",
     "output_type": "stream",
     "text": [
      "\n",
      " ['Scraping tutorial 1 | 莫烦Python']\n"
     ]
    }
   ],
   "source": [
    "all_title = soup.find_all('title')\n",
    "all_title = [t.get_text() for t in all_title]\n",
    "print('\\n', all_title)"
   ]
  }
 ],
 "metadata": {
  "kernelspec": {
   "display_name": "SVM",
   "language": "python",
   "name": "python3"
  },
  "language_info": {
   "codemirror_mode": {
    "name": "ipython",
    "version": 3
   },
   "file_extension": ".py",
   "mimetype": "text/x-python",
   "name": "python",
   "nbconvert_exporter": "python",
   "pygments_lexer": "ipython3",
   "version": "3.8.20"
  }
 },
 "nbformat": 4,
 "nbformat_minor": 0
}
