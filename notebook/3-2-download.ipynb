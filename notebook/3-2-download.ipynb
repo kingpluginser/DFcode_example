{
 "cells": [
  {
   "cell_type": "markdown",
   "metadata": {},
   "source": [
    "# 下载文件\n",
    "\n",
    "**介绍使用 python 下载内容的多种方法。**"
   ]
  },
  {
   "cell_type": "code",
   "execution_count": 9,
   "metadata": {
    "collapsed": false
   },
   "outputs": [],
   "source": [
    "import os\n",
    "# 如果当前目录下没有“img”文件夹，则创建一个\n",
    "os.makedirs('./img/', exist_ok=True)\n",
    "# 指定要下载的图片的URL\n",
    "IMAGE_URL = \"https://mofanpy.com/static/img/description/learning_step_flowchart.png\""
   ]
  },
  {
   "cell_type": "markdown",
   "metadata": {},
   "source": [
    "## urlretrieve\n",
    "\n",
    "**使用 urlretrieve 下载图像 URL。**"
   ]
  },
  {
   "cell_type": "code",
   "execution_count": 10,
   "metadata": {
    "collapsed": true
   },
   "outputs": [
    {
     "data": {
      "text/plain": [
       "('./img/image1.png', <http.client.HTTPMessage at 0x219934f5220>)"
      ]
     },
     "execution_count": 10,
     "metadata": {},
     "output_type": "execute_result"
    }
   ],
   "source": [
    "# 方法1：使用urlretrieve下载图片\n",
    "from urllib.request import urlretrieve\n",
    "# 下载图片并保存为“image1.png”到“img”文件夹中\n",
    "urlretrieve(IMAGE_URL, './img/image1.png')      # 整个文档"
   ]
  },
  {
   "cell_type": "markdown",
   "metadata": {},
   "source": [
    "\n",
    "## requestes下载\n",
    "\n",
    "**使用 requests.get 立即下载。**"
   ]
  },
  {
   "cell_type": "code",
   "execution_count": null,
   "metadata": {},
   "outputs": [],
   "source": [
    "# 方法2：使用requests下载图片\n",
    "import requests\n",
    "# 向图片URL发送GET请求\n",
    "r = requests.get(IMAGE_URL)\n",
    "# 以二进制写模式打开“img”文件夹中的“image2.png”文件\n",
    "with open('./img/image2.png', 'wb') as f:\n",
    "    # 将响应内容写入文件\n",
    "    f.write(r.content)                      # 整个文档"
   ]
  },
  {
   "cell_type": "markdown",
   "metadata": {},
   "source": [
    "## 下载 Chunck by Chunck\n",
    "\n",
    "**在 get()函数中设置 stream = True。这样效率更高。**"
   ]
  },
  {
   "cell_type": "code",
   "execution_count": null,
   "metadata": {},
   "outputs": [],
   "source": [
    "# 方法3：使用requests的流加载下载图片\n",
    "r = requests.get(IMAGE_URL, stream=True)    # 流加载\n",
    "# 以二进制写模式打开“img”文件夹中的“image3.png”文件\n",
    "with open('./img/image3.png', 'wb') as f:\n",
    "    # 以32字节的块大小迭代响应内容\n",
    "    for chunk in r.iter_content(chunk_size=32):\n",
    "        # 将每个块写入文件\n",
    "        f.write(chunk)"
   ]
  }
 ],
 "metadata": {
  "kernelspec": {
   "display_name": "SVM",
   "language": "python",
   "name": "python3"
  },
  "language_info": {
   "codemirror_mode": {
    "name": "ipython",
    "version": 3
   },
   "file_extension": ".py",
   "mimetype": "text/x-python",
   "name": "python",
   "nbconvert_exporter": "python",
   "pygments_lexer": "ipython3",
   "version": "3.8.20"
  }
 },
 "nbformat": 4,
 "nbformat_minor": 0
}
