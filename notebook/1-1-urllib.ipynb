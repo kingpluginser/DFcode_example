{
 "cells": [
  {
   "cell_type": "markdown",
   "metadata": {},
   "source": [
    "# 简单爬虫\n",
    "**我们将展示如何打开一个非常简单的[webpage](https://mofanpy.com/static/scraping/basic-structure.html)，并阅读其中的所有内容。**"
   ]
  },
  {
   "cell_type": "code",
   "execution_count": 6,
   "metadata": {},
   "outputs": [
    {
     "name": "stdout",
     "output_type": "stream",
     "text": [
      "状态码: 200\n",
      "成功获取内容，长度: 106594 字符\n",
      "\n",
      "前5000个字符:\n",
      "<!DOCTYPE html>\n",
      "<html xml:lang=\"zh-Hans\" lang=\"zh-Hans\">\n",
      "<head>\n",
      "\t<meta http-equiv=\"Content-Type\" content=\"text/html; charset=utf-8\" />\n",
      "\t<meta http-equiv=\"X-UA-Compatible\" content=\"IE=edge, chrome=1\" />\n",
      "\t<meta name=\"viewport\" content=\"width=device-width,minimum-scale=1,initial-scale=1,viewport-fit=cover\">\n",
      "\t<meta name=\"applicable-device\" content=\"pc,mobile\">\n",
      "\t<meta name=\"renderer\" content=\"webkit\" />\n",
      "    <meta name=\"force-rendering\" content=\"webkit\" />\n",
      "    <title>李洋博客 | 专业博客搭建与技术分享 - ZBlog主题定制与网站运维教程\n",
      "</title>\n",
      "\t<meta name=\"description\" content=\"李洋博客专注ZBlog主题模板定制开发，提供网站运维实战笔记与图文教程。涵盖主题设计、服务器配置、SEO优化等核心技术，助力个人站长快速搭建专业博客，分享从0到1的网站建设全流程经验。\" />\n",
      "\t<meta name=\"keywords\" content=\"ZBlog主题定制,网站运维教程,博客模板开发,服务器配置指南,图文建站教程,SEO优化技巧,个人博客搭建,网站维护笔记,主题模板设计,建站技术分享\" />\n",
      "\t<meta property=\"og:type\" content=\"index\"/>\n",
      "\t<meta property=\"og:title\" content=\"李洋博客 | 专业博客搭建与技术分享\" />\n",
      "\t<meta property=\"og:description\" content=\"李洋博客专注ZBlog主题模板定制开发，提供网站运维实战笔记与图文教程。涵盖主题设计、服务器配置、SEO优化等核心技术，助力个人站长快速搭建专业博客，分享从0到1的网站建设全流程经验。\" />\n",
      "\t<meta property=\"og:image\" content=\"/zb_users/upload/2024/11/logo-1106.png?/zb_users/upload/2022/11/logo_1110.png\" />\n",
      "\t<meta property=\"og:url\" content=\"https://www.itlaoli.com/\" />\n",
      "\t<script src=\"https://www.itlaoli.com/zb_users/upload/static/instantpage.min.js\" type=\"module\"></script>\n",
      "\t<script src=\"https://www.itlaoli.com/zb_users/theme/hopelee/script/jquery.min-3.6.1.js?v=173430\"></script>\n",
      "    <script src=\"https://www.itlaoli.com/zb_system/script/zblogphp.js?v=173430\"></script>\n",
      "    <script src=\"https://www.itlaoli.com/zb_system/script/c_html_js_add.php?hash=&v=173430\"></script>\n",
      "    <script src=\"https://www.itlaoli.com/zb_users/theme/hopelee/script/swiper.min.js\"></script>\n",
      "    <link rel=\"stylesheet\" href=\"https://www.itlaoli.com/zb_users/theme/hopelee/style/style.css?v=1.8.5?t=2025-08-07\" type=\"text/css\" media=\"all\" as=\"style\">\n",
      "\t<link rel=\"preload\" href=\"https://www.itlaoli.com/zb_users/theme/hopelee/style/libs/animate.css?v=2025-08-07\" type=\"text/css\" as=\"style\" onload=\"this.rel='stylesheet'\" />\n",
      "\t<link rel=\"preload\" href=\"https://www.itlaoli.com/zb_users/theme/hopelee/style/libs/night.css?v=2025-08-07\" type=\"text/css\" as=\"style\" onload=\"this.rel='stylesheet'\" />\n",
      "\t<link rel=\"shortcut icon\" href=\"/zb_users/upload/2024/08/202408021722580807668766.ico\" type=\"image/x-icon\">\n",
      "\t<link rel=\"alternate\" type=\"application/rss+xml\" href=\"https://www.itlaoli.com/feed.php\" title=\"李洋博客 | 专业博客搭建与技术分享\" />\n",
      "\t<meta http-equiv=\"Content-Security-Policy\" content=\"upgrade-insecure-requests\">\n",
      "    <link rel=\"preload\" href=\"https://www.itlaoli.com//tools/fonts/HarmonyOS_Sans.subset.woff2\" as=\"font\" type=\"font/woff2\" crossorigin data-instant>\n",
      "    <script language=\"javascript\"type=\"text/javascript\">window.onerror=function(message,source,lineno,colno,error){console.error(\"Error:\",message,\"at\",source,lineno);return true};\n",
      "</script>\n",
      "    <script async src=\"https://pagead2.googlesyndication.com/pagead/js/adsbygoogle.js?client=ca-pub-8840255125180942\"\n",
      "     crossorigin=\"anonymous\" data-instant></script>\n",
      "\t<style>@font-face{font-family:HarmonyOS_Sans_SC;font-style:normal;font-display:swap;src:url(https://www.itlaoli.com//tools/fonts/HarmonyOS_Sans.subset.woff2) format('woff2')}body,a{font-family:HarmonyOS_Sans_SC;}#comments .msg .msgarticle .noimg .msgtxt .msgarticle .noimg{margin:15px 10px 5px -20px;border-left:0;border-top:1px dashed #979b9f;padding-top:15px;}.layui-layer-molv .layui-layer-title{text-align:center;padding:0;font-weight:bold;}.layui-layer-content p{line-height:1.8;}.search-warp a.qq-sign-in{transition:color .15s ease-in-out,background-color .15s ease-in-out,border-color .15s ease-in-out,box-shadow .15s ease-in-out;text-align:center;text-decoration:none;vertical-align:middle;cursor:pointer;-webkit-user-select:none;-moz-user-select:none;user-select:none;background-color:#1381c5;color:#ffffff;font-size:12px;padding:5px 8px 6px;border-radius:4rem;margin-right:14px;background:linear-gradient(#58bdde,rgb(14 103 113 / 98%));}.f-last-line span.frimg a{margin:0 5px 0 0;}.widget_user{border-top-left-radius:8px;border-top-right-radius:8px;}.home-category .google-auto-placed{max-width:1155px;margin:0 auto;}.msg-alert{margin:0 auto;border-radius:2px;}body.home{background:url(/zb_users/upload/static/bl.png) no-repeat fixed bottom left,url(/zb_users/upload/static/tr.png) no-repeat fixed top 50px right,#f0f2f7;}.shape{color:#f1f2f7;}body,div{cursor:-webkit-image-set(url(data:image/png;base64,iVBORw0KGgoAAAANSUhEUgAAAEAAAABACAYAAAHdbkFIAAAAAXNSR0IArs4c6QAAB4dJREFUeAHtWltIXUcUHY01Ro01Pus7WkWJCVWr1kptaqiEtFTij1+hGElCif1oEYSK5CdgBT+K/fAj2kow+Sk1kBBCNGlB+2ExthHbVKRNxCb4iFo1an17utbJHTneh/d67/HZs2HfOXdmz8yeNXv2zOxzhHCE7t27p0DO3aZsSEiIQobAPnOh1VqXLl0SEFqCgIe5kFBApgIWulkImAqt5W9V3uGbN2++u15nScRgdnb2N2tCqzhkZ2cfNQ3XQi4JOalgCr9iUWoqsJavcx77PuBKmyoUhOPp06dVaGh19PYalTPPBnq0wkNDQwvu7u4+yKMJ2aQ1tvXs2TPh6enJWXMzVX4Lz7+A52y2YCoIQ5oB9rInaJRbIkA3wKn0BnNhr4A3TPu5TEiouX+jtWlxqtWFhobSvXC+N2TSa0yWjYyMjPyLRnwd1WRNA6yUnJwsbt++PYVHf7A0dRbZpAMcPxdSTk6OUlxcrD6jESU/Pz/UZi1NwWoDFRUVXyD/bf\n"
     ]
    }
   ],
   "source": [
    "import requests\n",
    "from bs4 import BeautifulSoup\n",
    "\n",
    "# 代理设置\n",
    "proxies = {\n",
    "    'http': '127.0.0.1:10809',\n",
    "    'https': '127.0.0.1:10809'\n",
    "}\n",
    "\n",
    "url = \"https://www.itlaoli.com/\"\n",
    "\n",
    "headers = {\n",
    "    'User-Agent': 'Mozilla/5.0 (Windows NT 10.0; Win64; x64) AppleWebKit/537.36 (KHTML, like Gecko) Chrome/91.0.4472.124 Safari/537.36'\n",
    "}\n",
    "\n",
    "try:\n",
    "    # 明确指定不使用代理\n",
    "    response = requests.get(url, headers=headers, proxies=proxies, timeout=30)\n",
    "    \n",
    "    print(f\"状态码: {response.status_code}\")\n",
    "    \n",
    "    if response.status_code == 200:\n",
    "        html = response.text\n",
    "        print(f\"成功获取内容，长度: {len(html)} 字符\")\n",
    "        \n",
    "        # 解析HTML\n",
    "        soup = BeautifulSoup(html, 'html.parser')\n",
    "        print(\"\\n前5000个字符:\")\n",
    "        print(html[:5000])\n",
    "    else:\n",
    "        print(f\"请求失败，状态码: {response.status_code}\")\n",
    "        \n",
    "except Exception as e:\n",
    "    print(f\"请求失败: {e}\")"
   ]
  },
  {
   "cell_type": "code",
   "execution_count": 7,
   "metadata": {
    "collapsed": true
   },
   "outputs": [
    {
     "name": "stdout",
     "output_type": "stream",
     "text": [
      "<!DOCTYPE html>\n",
      "<html lang=\"cn\">\n",
      " <head>\n",
      "  <meta charset=\"utf-8\"/>\n",
      "  <title>\n",
      "   Scraping tutorial 1 | 莫烦Python\n",
      "  </title>\n",
      "  <link href=\"/static/img/description/tab_icon.png\" rel=\"icon\"/>\n",
      " </head>\n",
      " <body>\n",
      "  <h1>\n",
      "   爬虫测试1\n",
      "  </h1>\n",
      "  <p>\n",
      "   这是一个在\n",
      "   <a href=\"/\">\n",
      "    莫烦Python\n",
      "   </a>\n",
      "   <a href=\"/tutorials/data-manipulation/scraping/\">\n",
      "    爬虫教程\n",
      "   </a>\n",
      "   中的简单测试.\n",
      "  </p>\n",
      " </body>\n",
      "</html>\n",
      "\n"
     ]
    }
   ],
   "source": [
    "from urllib.request import urlopen\n",
    "from bs4 import BeautifulSoup\n",
    "\n",
    "# 获取网页内容\n",
    "html = urlopen(\"https://mofanpy.com/static/scraping/basic-structure.html\").read().decode('utf-8')\n",
    "# html = urlopen(\"https://www.weiyoun.com/2023/09/28/cms9geduibi/\").read().decode('utf-8')\n",
    "\n",
    "# 使用BeautifulSoup解析并格式化HTML\n",
    "soup = BeautifulSoup(html, 'html.parser')\n",
    "formatted_html = soup.prettify()\n",
    "\n",
    "# 打印格式化后的HTML\n",
    "print(formatted_html)"
   ]
  },
  {
   "cell_type": "markdown",
   "metadata": {},
   "source": [
    "**然后我们根据标签选择一些文本，使用正则表达式将文本环绕起来**"
   ]
  },
  {
   "cell_type": "code",
   "execution_count": 8,
   "metadata": {},
   "outputs": [
    {
     "name": "stdout",
     "output_type": "stream",
     "text": [
      "\n",
      "Page title is:  Scraping tutorial 1 | 莫烦Python\n"
     ]
    }
   ],
   "source": [
    "import re\n",
    "res = re.findall(r\"<title>(.+?)</title>\", html)\n",
    "print(\"\\nPage title is: \", res[0])"
   ]
  },
  {
   "cell_type": "markdown",
   "metadata": {},
   "source": [
    "**从 html 中选择段落内容的另一个示例。**"
   ]
  },
  {
   "cell_type": "code",
   "execution_count": 11,
   "metadata": {},
   "outputs": [
    {
     "name": "stdout",
     "output_type": "stream",
     "text": [
      "\n",
      "Page paragraph is:   <h1>爬虫测试1</h1> <p> 这是一个在 <a href=\"/\">莫烦Python</a> <a href=\"/tutorials/data-manipulation/scraping/\">爬虫教程</a> 中的简单测试. </p> \n"
     ]
    }
   ],
   "source": [
    "res = re.findall(r\"<body>(.*?)</body>\", html, flags=re.DOTALL)    # re.DOTALL if multi line\n",
    "print(\"\\nPage paragraph is: \", res[0])"
   ]
  },
  {
   "cell_type": "markdown",
   "metadata": {},
   "source": [
    "**提取全部的链接**"
   ]
  },
  {
   "cell_type": "code",
   "execution_count": 13,
   "metadata": {},
   "outputs": [
    {
     "name": "stdout",
     "output_type": "stream",
     "text": [
      "\n",
      "All links is:  ['/static/img/description/tab_icon.png', '/', '/tutorials/data-manipulation/scraping/']\n"
     ]
    }
   ],
   "source": [
    "res = re.findall(r\"href=\\\"(.+?)\\\"\", html)\n",
    "print(\"\\nAll links is: \", res)"
   ]
  }
 ],
 "metadata": {
  "kernelspec": {
   "display_name": "SVM",
   "language": "python",
   "name": "python3"
  },
  "language_info": {
   "codemirror_mode": {
    "name": "ipython",
    "version": 3
   },
   "file_extension": ".py",
   "mimetype": "text/x-python",
   "name": "python",
   "nbconvert_exporter": "python",
   "pygments_lexer": "ipython3",
   "version": "3.8.20"
  }
 },
 "nbformat": 4,
 "nbformat_minor": 0
}
